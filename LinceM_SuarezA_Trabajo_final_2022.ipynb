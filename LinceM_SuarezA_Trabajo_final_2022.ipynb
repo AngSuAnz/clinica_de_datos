{
  "nbformat": 4,
  "nbformat_minor": 0,
  "metadata": {
    "colab": {
      "provenance": [],
      "include_colab_link": true
    },
    "kernelspec": {
      "display_name": "Python 3",
      "name": "python3"
    },
    "language_info": {
      "name": "python"
    }
  },
  "cells": [
    {
      "cell_type": "markdown",
      "metadata": {
        "id": "view-in-github",
        "colab_type": "text"
      },
      "source": [
        "<a href=\"https://colab.research.google.com/github/AngSuAnz/clinica_de_datos/blob/main/LinceM_SuarezA_Trabajo_final_2022.ipynb\" target=\"_parent\"><img src=\"https://colab.research.google.com/assets/colab-badge.svg\" alt=\"Open In Colab\"/></a>"
      ]
    },
    {
      "cell_type": "markdown",
      "metadata": {
        "id": "C0qGHhYtXtjJ"
      },
      "source": [
        "**Metodos Cuantitativos Aplicados a Estudios Urbanos** \\\\\n",
        "Profesor Ricardo Pasquini \\\\\n",
        "Universidad Torcuato Di Tella \\\\\n",
        "rpasquini@gmail.com"
      ]
    },
    {
      "cell_type": "markdown",
      "metadata": {
        "id": "yyTvwUhb5vDm"
      },
      "source": [
        "En este trabajo final vamos a analizar si el gradiente de alquileres asociado a la teoria de la aglomeracion, ha cambiado a raiz del COVID. Analizaremos  ciudades seleccionadas de América Latina, utilizando datos de Properati. (https://www.properati.com.ar/data/). Cada grupo trabajara con una única ciudad.\n",
        "\n",
        "**Importante:**\n",
        "\n",
        "\n",
        "*   El trabajo se realiza en grupos de hasta 2 personas.\n",
        "*   Las instrucciones para registrar su grupo y ciudad están en el sitio del campus UTDT de la materia. Deben buscar Trabajo Final.\n",
        "*   La entrega se realiza **exclusivamente** mediante el Campus UTDT.\n",
        "*  Para responder a las preguntas agregue celdas de código o texto al notebook.\n",
        "\n",
        "**Deadline de Entrega:**\n",
        "\n",
        "1ero de Octubre de 2020 (Ayuda Marty McFly!!!!!!)"
      ]
    },
    {
      "cell_type": "markdown",
      "metadata": {
        "id": "K8BfX57_vsqm"
      },
      "source": [
        "# Preparacion del ambiente de trabajo y e importación del geodataframe"
      ]
    },
    {
      "cell_type": "code",
      "metadata": {
        "colab": {
          "base_uri": "https://localhost:8080/"
        },
        "id": "SngkwofrjBMW",
        "outputId": "b70b6f32-1ac5-421c-ac7e-e889b12618a8"
      },
      "source": [
        "!pip install geopandas==0.9.0"
      ],
      "execution_count": 34,
      "outputs": [
        {
          "output_type": "stream",
          "name": "stdout",
          "text": [
            "Requirement already satisfied: geopandas==0.9.0 in /usr/local/lib/python3.10/dist-packages (0.9.0)\n",
            "Requirement already satisfied: pandas>=0.24.0 in /usr/local/lib/python3.10/dist-packages (from geopandas==0.9.0) (1.5.3)\n",
            "Requirement already satisfied: shapely>=1.6 in /usr/local/lib/python3.10/dist-packages (from geopandas==0.9.0) (2.0.1)\n",
            "Requirement already satisfied: fiona>=1.8 in /usr/local/lib/python3.10/dist-packages (from geopandas==0.9.0) (1.9.4.post1)\n",
            "Requirement already satisfied: pyproj>=2.2.0 in /usr/local/lib/python3.10/dist-packages (from geopandas==0.9.0) (3.6.0)\n",
            "Requirement already satisfied: attrs>=19.2.0 in /usr/local/lib/python3.10/dist-packages (from fiona>=1.8->geopandas==0.9.0) (23.1.0)\n",
            "Requirement already satisfied: certifi in /usr/local/lib/python3.10/dist-packages (from fiona>=1.8->geopandas==0.9.0) (2023.7.22)\n",
            "Requirement already satisfied: click~=8.0 in /usr/local/lib/python3.10/dist-packages (from fiona>=1.8->geopandas==0.9.0) (8.1.7)\n",
            "Requirement already satisfied: click-plugins>=1.0 in /usr/local/lib/python3.10/dist-packages (from fiona>=1.8->geopandas==0.9.0) (1.1.1)\n",
            "Requirement already satisfied: cligj>=0.5 in /usr/local/lib/python3.10/dist-packages (from fiona>=1.8->geopandas==0.9.0) (0.7.2)\n",
            "Requirement already satisfied: six in /usr/local/lib/python3.10/dist-packages (from fiona>=1.8->geopandas==0.9.0) (1.16.0)\n",
            "Requirement already satisfied: python-dateutil>=2.8.1 in /usr/local/lib/python3.10/dist-packages (from pandas>=0.24.0->geopandas==0.9.0) (2.8.2)\n",
            "Requirement already satisfied: pytz>=2020.1 in /usr/local/lib/python3.10/dist-packages (from pandas>=0.24.0->geopandas==0.9.0) (2023.3.post1)\n",
            "Requirement already satisfied: numpy>=1.21.0 in /usr/local/lib/python3.10/dist-packages (from pandas>=0.24.0->geopandas==0.9.0) (1.23.5)\n"
          ]
        }
      ]
    },
    {
      "cell_type": "code",
      "source": [
        "!pip install contextily"
      ],
      "metadata": {
        "id": "BsAJtifqF6oP",
        "outputId": "b0fcdf56-3853-41ea-9b2f-2d1525b8276c",
        "colab": {
          "base_uri": "https://localhost:8080/"
        }
      },
      "execution_count": 35,
      "outputs": [
        {
          "output_type": "stream",
          "name": "stdout",
          "text": [
            "Requirement already satisfied: contextily in /usr/local/lib/python3.10/dist-packages (1.3.0)\n",
            "Requirement already satisfied: geopy in /usr/local/lib/python3.10/dist-packages (from contextily) (2.3.0)\n",
            "Requirement already satisfied: matplotlib in /usr/local/lib/python3.10/dist-packages (from contextily) (3.7.1)\n",
            "Requirement already satisfied: mercantile in /usr/local/lib/python3.10/dist-packages (from contextily) (1.2.1)\n",
            "Requirement already satisfied: pillow in /usr/local/lib/python3.10/dist-packages (from contextily) (9.4.0)\n",
            "Requirement already satisfied: rasterio in /usr/local/lib/python3.10/dist-packages (from contextily) (1.3.8)\n",
            "Requirement already satisfied: requests in /usr/local/lib/python3.10/dist-packages (from contextily) (2.31.0)\n",
            "Requirement already satisfied: joblib in /usr/local/lib/python3.10/dist-packages (from contextily) (1.3.2)\n",
            "Requirement already satisfied: xyzservices in /usr/local/lib/python3.10/dist-packages (from contextily) (2023.7.0)\n",
            "Requirement already satisfied: geographiclib<3,>=1.52 in /usr/local/lib/python3.10/dist-packages (from geopy->contextily) (2.0)\n",
            "Requirement already satisfied: contourpy>=1.0.1 in /usr/local/lib/python3.10/dist-packages (from matplotlib->contextily) (1.1.0)\n",
            "Requirement already satisfied: cycler>=0.10 in /usr/local/lib/python3.10/dist-packages (from matplotlib->contextily) (0.11.0)\n",
            "Requirement already satisfied: fonttools>=4.22.0 in /usr/local/lib/python3.10/dist-packages (from matplotlib->contextily) (4.42.1)\n",
            "Requirement already satisfied: kiwisolver>=1.0.1 in /usr/local/lib/python3.10/dist-packages (from matplotlib->contextily) (1.4.5)\n",
            "Requirement already satisfied: numpy>=1.20 in /usr/local/lib/python3.10/dist-packages (from matplotlib->contextily) (1.23.5)\n",
            "Requirement already satisfied: packaging>=20.0 in /usr/local/lib/python3.10/dist-packages (from matplotlib->contextily) (23.1)\n",
            "Requirement already satisfied: pyparsing>=2.3.1 in /usr/local/lib/python3.10/dist-packages (from matplotlib->contextily) (3.1.1)\n",
            "Requirement already satisfied: python-dateutil>=2.7 in /usr/local/lib/python3.10/dist-packages (from matplotlib->contextily) (2.8.2)\n",
            "Requirement already satisfied: click>=3.0 in /usr/local/lib/python3.10/dist-packages (from mercantile->contextily) (8.1.7)\n",
            "Requirement already satisfied: affine in /usr/local/lib/python3.10/dist-packages (from rasterio->contextily) (2.4.0)\n",
            "Requirement already satisfied: attrs in /usr/local/lib/python3.10/dist-packages (from rasterio->contextily) (23.1.0)\n",
            "Requirement already satisfied: certifi in /usr/local/lib/python3.10/dist-packages (from rasterio->contextily) (2023.7.22)\n",
            "Requirement already satisfied: cligj>=0.5 in /usr/local/lib/python3.10/dist-packages (from rasterio->contextily) (0.7.2)\n",
            "Requirement already satisfied: snuggs>=1.4.1 in /usr/local/lib/python3.10/dist-packages (from rasterio->contextily) (1.4.7)\n",
            "Requirement already satisfied: click-plugins in /usr/local/lib/python3.10/dist-packages (from rasterio->contextily) (1.1.1)\n",
            "Requirement already satisfied: setuptools in /usr/local/lib/python3.10/dist-packages (from rasterio->contextily) (67.7.2)\n",
            "Requirement already satisfied: charset-normalizer<4,>=2 in /usr/local/lib/python3.10/dist-packages (from requests->contextily) (3.2.0)\n",
            "Requirement already satisfied: idna<4,>=2.5 in /usr/local/lib/python3.10/dist-packages (from requests->contextily) (3.4)\n",
            "Requirement already satisfied: urllib3<3,>=1.21.1 in /usr/local/lib/python3.10/dist-packages (from requests->contextily) (2.0.4)\n",
            "Requirement already satisfied: six>=1.5 in /usr/local/lib/python3.10/dist-packages (from python-dateutil>=2.7->matplotlib->contextily) (1.16.0)\n"
          ]
        }
      ]
    },
    {
      "cell_type": "code",
      "metadata": {
        "id": "e2ygTqm3jT72"
      },
      "source": [
        "import geopandas as gpd\n",
        "import statsmodels.api as sm\n",
        "import contextily as cx\n",
        "import matplotlib.pyplot as plt"
      ],
      "execution_count": 36,
      "outputs": []
    },
    {
      "cell_type": "markdown",
      "metadata": {
        "id": "jxXOvA77C__8"
      },
      "source": [
        "En la siguiente celda de codigo, modifique el nombre de ciudad correspondiente a la ciudad con la que va a trabajar. Las opciones son: \"amba40\", \"bogota\", \"cali\", \"cordoba\", \"medellin\", \"rosario\", \"lima\", \"montevideo\""
      ]
    },
    {
      "cell_type": "code",
      "metadata": {
        "id": "xMM7PEe1jVxg",
        "colab": {
          "base_uri": "https://localhost:8080/",
          "height": 339
        },
        "outputId": "4c3058a6-2a4f-40ea-bdb5-f4e236081ab2"
      },
      "source": [
        "ciudad='medellin'\n",
        "gdf=gpd.GeoDataFrame.from_file(\"https://github.com/rpasquini/urban_gradient_and_covid/tree/main/data/2022\"+ciudad+\".zip?raw=true\")"
      ],
      "execution_count": 43,
      "outputs": [
        {
          "output_type": "error",
          "ename": "HTTPError",
          "evalue": "ignored",
          "traceback": [
            "\u001b[0;31m---------------------------------------------------------------------------\u001b[0m",
            "\u001b[0;31mHTTPError\u001b[0m                                 Traceback (most recent call last)",
            "\u001b[0;32m<ipython-input-43-46cd390c3492>\u001b[0m in \u001b[0;36m<cell line: 2>\u001b[0;34m()\u001b[0m\n\u001b[1;32m      1\u001b[0m \u001b[0mciudad\u001b[0m\u001b[0;34m=\u001b[0m\u001b[0;34m'medellin'\u001b[0m\u001b[0;34m\u001b[0m\u001b[0;34m\u001b[0m\u001b[0m\n\u001b[0;32m----> 2\u001b[0;31m \u001b[0mgdf\u001b[0m\u001b[0;34m=\u001b[0m\u001b[0mgpd\u001b[0m\u001b[0;34m.\u001b[0m\u001b[0mGeoDataFrame\u001b[0m\u001b[0;34m.\u001b[0m\u001b[0mfrom_file\u001b[0m\u001b[0;34m(\u001b[0m\u001b[0;34m\"https://github.com/rpasquini/urban_gradient_and_covid/tree/main/data/2022\"\u001b[0m\u001b[0;34m+\u001b[0m\u001b[0mciudad\u001b[0m\u001b[0;34m+\u001b[0m\u001b[0;34m\".zip?raw=true\"\u001b[0m\u001b[0;34m)\u001b[0m\u001b[0;34m\u001b[0m\u001b[0;34m\u001b[0m\u001b[0m\n\u001b[0m",
            "\u001b[0;32m/usr/local/lib/python3.10/dist-packages/geopandas/geodataframe.py\u001b[0m in \u001b[0;36mfrom_file\u001b[0;34m(cls, filename, **kwargs)\u001b[0m\n\u001b[1;32m    559\u001b[0m         \u001b[0;34m>>\u001b[0m\u001b[0;34m>\u001b[0m \u001b[0mdf\u001b[0m\u001b[0;34m\u001b[0m\u001b[0;34m\u001b[0m\u001b[0m\n\u001b[1;32m    560\u001b[0m                           \u001b[0mgeometry\u001b[0m   \u001b[0mcol1\u001b[0m\u001b[0;34m\u001b[0m\u001b[0;34m\u001b[0m\u001b[0m\n\u001b[0;32m--> 561\u001b[0;31m         \u001b[0;36m0\u001b[0m  \u001b[0mPOINT\u001b[0m \u001b[0;34m(\u001b[0m\u001b[0;36m1.00000\u001b[0m \u001b[0;36m2.00000\u001b[0m\u001b[0;34m)\u001b[0m  \u001b[0mname1\u001b[0m\u001b[0;34m\u001b[0m\u001b[0;34m\u001b[0m\u001b[0m\n\u001b[0m\u001b[1;32m    562\u001b[0m         \u001b[0;36m1\u001b[0m  \u001b[0mPOINT\u001b[0m \u001b[0;34m(\u001b[0m\u001b[0;36m2.00000\u001b[0m \u001b[0;36m1.00000\u001b[0m\u001b[0;34m)\u001b[0m  \u001b[0mname2\u001b[0m\u001b[0;34m\u001b[0m\u001b[0;34m\u001b[0m\u001b[0m\n\u001b[1;32m    563\u001b[0m \u001b[0;34m\u001b[0m\u001b[0m\n",
            "\u001b[0;32m/usr/local/lib/python3.10/dist-packages/geopandas/io/file.py\u001b[0m in \u001b[0;36m_read_file\u001b[0;34m(filename, bbox, mask, rows, engine, **kwargs)\u001b[0m\n\u001b[1;32m    263\u001b[0m     \u001b[0mindex\u001b[0m \u001b[0;34m:\u001b[0m \u001b[0mbool\u001b[0m\u001b[0;34m,\u001b[0m \u001b[0mdefault\u001b[0m \u001b[0;32mNone\u001b[0m\u001b[0;34m\u001b[0m\u001b[0;34m\u001b[0m\u001b[0m\n\u001b[1;32m    264\u001b[0m         \u001b[0mIf\u001b[0m \u001b[0;32mTrue\u001b[0m\u001b[0;34m,\u001b[0m \u001b[0mwrite\u001b[0m \u001b[0mindex\u001b[0m \u001b[0minto\u001b[0m \u001b[0mone\u001b[0m \u001b[0;32mor\u001b[0m \u001b[0mmore\u001b[0m \u001b[0mcolumns\u001b[0m \u001b[0;34m(\u001b[0m\u001b[0;32mfor\u001b[0m \u001b[0mMultiIndex\u001b[0m\u001b[0;34m)\u001b[0m\u001b[0;34m.\u001b[0m\u001b[0;34m\u001b[0m\u001b[0;34m\u001b[0m\u001b[0m\n\u001b[0;32m--> 265\u001b[0;31m         \u001b[0mDefault\u001b[0m \u001b[0;32mNone\u001b[0m \u001b[0mwrites\u001b[0m \u001b[0mthe\u001b[0m \u001b[0mindex\u001b[0m \u001b[0minto\u001b[0m \u001b[0mone\u001b[0m \u001b[0;32mor\u001b[0m \u001b[0mmore\u001b[0m \u001b[0mcolumns\u001b[0m \u001b[0monly\u001b[0m \u001b[0;32mif\u001b[0m\u001b[0;34m\u001b[0m\u001b[0;34m\u001b[0m\u001b[0m\n\u001b[0m\u001b[1;32m    266\u001b[0m         \u001b[0mthe\u001b[0m \u001b[0mindex\u001b[0m \u001b[0;32mis\u001b[0m \u001b[0mnamed\u001b[0m\u001b[0;34m,\u001b[0m \u001b[0;32mis\u001b[0m \u001b[0ma\u001b[0m \u001b[0mMultiIndex\u001b[0m\u001b[0;34m,\u001b[0m \u001b[0;32mor\u001b[0m \u001b[0mhas\u001b[0m \u001b[0ma\u001b[0m \u001b[0mnon\u001b[0m\u001b[0;34m-\u001b[0m\u001b[0minteger\u001b[0m \u001b[0mdata\u001b[0m\u001b[0;34m\u001b[0m\u001b[0;34m\u001b[0m\u001b[0m\n\u001b[1;32m    267\u001b[0m         \u001b[0mtype\u001b[0m\u001b[0;34m.\u001b[0m \u001b[0mIf\u001b[0m \u001b[0;32mFalse\u001b[0m\u001b[0;34m,\u001b[0m \u001b[0mno\u001b[0m \u001b[0mindex\u001b[0m \u001b[0;32mis\u001b[0m \u001b[0mwritten\u001b[0m\u001b[0;34m.\u001b[0m\u001b[0;34m\u001b[0m\u001b[0;34m\u001b[0m\u001b[0m\n",
            "\u001b[0;32m/usr/lib/python3.10/urllib/request.py\u001b[0m in \u001b[0;36murlopen\u001b[0;34m(url, data, timeout, cafile, capath, cadefault, context)\u001b[0m\n\u001b[1;32m    214\u001b[0m     \u001b[0;32melse\u001b[0m\u001b[0;34m:\u001b[0m\u001b[0;34m\u001b[0m\u001b[0;34m\u001b[0m\u001b[0m\n\u001b[1;32m    215\u001b[0m         \u001b[0mopener\u001b[0m \u001b[0;34m=\u001b[0m \u001b[0m_opener\u001b[0m\u001b[0;34m\u001b[0m\u001b[0;34m\u001b[0m\u001b[0m\n\u001b[0;32m--> 216\u001b[0;31m     \u001b[0;32mreturn\u001b[0m \u001b[0mopener\u001b[0m\u001b[0;34m.\u001b[0m\u001b[0mopen\u001b[0m\u001b[0;34m(\u001b[0m\u001b[0murl\u001b[0m\u001b[0;34m,\u001b[0m \u001b[0mdata\u001b[0m\u001b[0;34m,\u001b[0m \u001b[0mtimeout\u001b[0m\u001b[0;34m)\u001b[0m\u001b[0;34m\u001b[0m\u001b[0;34m\u001b[0m\u001b[0m\n\u001b[0m\u001b[1;32m    217\u001b[0m \u001b[0;34m\u001b[0m\u001b[0m\n\u001b[1;32m    218\u001b[0m \u001b[0;32mdef\u001b[0m \u001b[0minstall_opener\u001b[0m\u001b[0;34m(\u001b[0m\u001b[0mopener\u001b[0m\u001b[0;34m)\u001b[0m\u001b[0;34m:\u001b[0m\u001b[0;34m\u001b[0m\u001b[0;34m\u001b[0m\u001b[0m\n",
            "\u001b[0;32m/usr/lib/python3.10/urllib/request.py\u001b[0m in \u001b[0;36mopen\u001b[0;34m(self, fullurl, data, timeout)\u001b[0m\n\u001b[1;32m    523\u001b[0m         \u001b[0;32mfor\u001b[0m \u001b[0mprocessor\u001b[0m \u001b[0;32min\u001b[0m \u001b[0mself\u001b[0m\u001b[0;34m.\u001b[0m\u001b[0mprocess_response\u001b[0m\u001b[0;34m.\u001b[0m\u001b[0mget\u001b[0m\u001b[0;34m(\u001b[0m\u001b[0mprotocol\u001b[0m\u001b[0;34m,\u001b[0m \u001b[0;34m[\u001b[0m\u001b[0;34m]\u001b[0m\u001b[0;34m)\u001b[0m\u001b[0;34m:\u001b[0m\u001b[0;34m\u001b[0m\u001b[0;34m\u001b[0m\u001b[0m\n\u001b[1;32m    524\u001b[0m             \u001b[0mmeth\u001b[0m \u001b[0;34m=\u001b[0m \u001b[0mgetattr\u001b[0m\u001b[0;34m(\u001b[0m\u001b[0mprocessor\u001b[0m\u001b[0;34m,\u001b[0m \u001b[0mmeth_name\u001b[0m\u001b[0;34m)\u001b[0m\u001b[0;34m\u001b[0m\u001b[0;34m\u001b[0m\u001b[0m\n\u001b[0;32m--> 525\u001b[0;31m             \u001b[0mresponse\u001b[0m \u001b[0;34m=\u001b[0m \u001b[0mmeth\u001b[0m\u001b[0;34m(\u001b[0m\u001b[0mreq\u001b[0m\u001b[0;34m,\u001b[0m \u001b[0mresponse\u001b[0m\u001b[0;34m)\u001b[0m\u001b[0;34m\u001b[0m\u001b[0;34m\u001b[0m\u001b[0m\n\u001b[0m\u001b[1;32m    526\u001b[0m \u001b[0;34m\u001b[0m\u001b[0m\n\u001b[1;32m    527\u001b[0m         \u001b[0;32mreturn\u001b[0m \u001b[0mresponse\u001b[0m\u001b[0;34m\u001b[0m\u001b[0;34m\u001b[0m\u001b[0m\n",
            "\u001b[0;32m/usr/lib/python3.10/urllib/request.py\u001b[0m in \u001b[0;36mhttp_response\u001b[0;34m(self, request, response)\u001b[0m\n\u001b[1;32m    632\u001b[0m         \u001b[0;31m# request was successfully received, understood, and accepted.\u001b[0m\u001b[0;34m\u001b[0m\u001b[0;34m\u001b[0m\u001b[0m\n\u001b[1;32m    633\u001b[0m         \u001b[0;32mif\u001b[0m \u001b[0;32mnot\u001b[0m \u001b[0;34m(\u001b[0m\u001b[0;36m200\u001b[0m \u001b[0;34m<=\u001b[0m \u001b[0mcode\u001b[0m \u001b[0;34m<\u001b[0m \u001b[0;36m300\u001b[0m\u001b[0;34m)\u001b[0m\u001b[0;34m:\u001b[0m\u001b[0;34m\u001b[0m\u001b[0;34m\u001b[0m\u001b[0m\n\u001b[0;32m--> 634\u001b[0;31m             response = self.parent.error(\n\u001b[0m\u001b[1;32m    635\u001b[0m                 'http', request, response, code, msg, hdrs)\n\u001b[1;32m    636\u001b[0m \u001b[0;34m\u001b[0m\u001b[0m\n",
            "\u001b[0;32m/usr/lib/python3.10/urllib/request.py\u001b[0m in \u001b[0;36merror\u001b[0;34m(self, proto, *args)\u001b[0m\n\u001b[1;32m    561\u001b[0m         \u001b[0;32mif\u001b[0m \u001b[0mhttp_err\u001b[0m\u001b[0;34m:\u001b[0m\u001b[0;34m\u001b[0m\u001b[0;34m\u001b[0m\u001b[0m\n\u001b[1;32m    562\u001b[0m             \u001b[0margs\u001b[0m \u001b[0;34m=\u001b[0m \u001b[0;34m(\u001b[0m\u001b[0mdict\u001b[0m\u001b[0;34m,\u001b[0m \u001b[0;34m'default'\u001b[0m\u001b[0;34m,\u001b[0m \u001b[0;34m'http_error_default'\u001b[0m\u001b[0;34m)\u001b[0m \u001b[0;34m+\u001b[0m \u001b[0morig_args\u001b[0m\u001b[0;34m\u001b[0m\u001b[0;34m\u001b[0m\u001b[0m\n\u001b[0;32m--> 563\u001b[0;31m             \u001b[0;32mreturn\u001b[0m \u001b[0mself\u001b[0m\u001b[0;34m.\u001b[0m\u001b[0m_call_chain\u001b[0m\u001b[0;34m(\u001b[0m\u001b[0;34m*\u001b[0m\u001b[0margs\u001b[0m\u001b[0;34m)\u001b[0m\u001b[0;34m\u001b[0m\u001b[0;34m\u001b[0m\u001b[0m\n\u001b[0m\u001b[1;32m    564\u001b[0m \u001b[0;34m\u001b[0m\u001b[0m\n\u001b[1;32m    565\u001b[0m \u001b[0;31m# XXX probably also want an abstract factory that knows when it makes\u001b[0m\u001b[0;34m\u001b[0m\u001b[0;34m\u001b[0m\u001b[0m\n",
            "\u001b[0;32m/usr/lib/python3.10/urllib/request.py\u001b[0m in \u001b[0;36m_call_chain\u001b[0;34m(self, chain, kind, meth_name, *args)\u001b[0m\n\u001b[1;32m    494\u001b[0m         \u001b[0;32mfor\u001b[0m \u001b[0mhandler\u001b[0m \u001b[0;32min\u001b[0m \u001b[0mhandlers\u001b[0m\u001b[0;34m:\u001b[0m\u001b[0;34m\u001b[0m\u001b[0;34m\u001b[0m\u001b[0m\n\u001b[1;32m    495\u001b[0m             \u001b[0mfunc\u001b[0m \u001b[0;34m=\u001b[0m \u001b[0mgetattr\u001b[0m\u001b[0;34m(\u001b[0m\u001b[0mhandler\u001b[0m\u001b[0;34m,\u001b[0m \u001b[0mmeth_name\u001b[0m\u001b[0;34m)\u001b[0m\u001b[0;34m\u001b[0m\u001b[0;34m\u001b[0m\u001b[0m\n\u001b[0;32m--> 496\u001b[0;31m             \u001b[0mresult\u001b[0m \u001b[0;34m=\u001b[0m \u001b[0mfunc\u001b[0m\u001b[0;34m(\u001b[0m\u001b[0;34m*\u001b[0m\u001b[0margs\u001b[0m\u001b[0;34m)\u001b[0m\u001b[0;34m\u001b[0m\u001b[0;34m\u001b[0m\u001b[0m\n\u001b[0m\u001b[1;32m    497\u001b[0m             \u001b[0;32mif\u001b[0m \u001b[0mresult\u001b[0m \u001b[0;32mis\u001b[0m \u001b[0;32mnot\u001b[0m \u001b[0;32mNone\u001b[0m\u001b[0;34m:\u001b[0m\u001b[0;34m\u001b[0m\u001b[0;34m\u001b[0m\u001b[0m\n\u001b[1;32m    498\u001b[0m                 \u001b[0;32mreturn\u001b[0m \u001b[0mresult\u001b[0m\u001b[0;34m\u001b[0m\u001b[0;34m\u001b[0m\u001b[0m\n",
            "\u001b[0;32m/usr/lib/python3.10/urllib/request.py\u001b[0m in \u001b[0;36mhttp_error_default\u001b[0;34m(self, req, fp, code, msg, hdrs)\u001b[0m\n\u001b[1;32m    641\u001b[0m \u001b[0;32mclass\u001b[0m \u001b[0mHTTPDefaultErrorHandler\u001b[0m\u001b[0;34m(\u001b[0m\u001b[0mBaseHandler\u001b[0m\u001b[0;34m)\u001b[0m\u001b[0;34m:\u001b[0m\u001b[0;34m\u001b[0m\u001b[0;34m\u001b[0m\u001b[0m\n\u001b[1;32m    642\u001b[0m     \u001b[0;32mdef\u001b[0m \u001b[0mhttp_error_default\u001b[0m\u001b[0;34m(\u001b[0m\u001b[0mself\u001b[0m\u001b[0;34m,\u001b[0m \u001b[0mreq\u001b[0m\u001b[0;34m,\u001b[0m \u001b[0mfp\u001b[0m\u001b[0;34m,\u001b[0m \u001b[0mcode\u001b[0m\u001b[0;34m,\u001b[0m \u001b[0mmsg\u001b[0m\u001b[0;34m,\u001b[0m \u001b[0mhdrs\u001b[0m\u001b[0;34m)\u001b[0m\u001b[0;34m:\u001b[0m\u001b[0;34m\u001b[0m\u001b[0;34m\u001b[0m\u001b[0m\n\u001b[0;32m--> 643\u001b[0;31m         \u001b[0;32mraise\u001b[0m \u001b[0mHTTPError\u001b[0m\u001b[0;34m(\u001b[0m\u001b[0mreq\u001b[0m\u001b[0;34m.\u001b[0m\u001b[0mfull_url\u001b[0m\u001b[0;34m,\u001b[0m \u001b[0mcode\u001b[0m\u001b[0;34m,\u001b[0m \u001b[0mmsg\u001b[0m\u001b[0;34m,\u001b[0m \u001b[0mhdrs\u001b[0m\u001b[0;34m,\u001b[0m \u001b[0mfp\u001b[0m\u001b[0;34m)\u001b[0m\u001b[0;34m\u001b[0m\u001b[0;34m\u001b[0m\u001b[0m\n\u001b[0m\u001b[1;32m    644\u001b[0m \u001b[0;34m\u001b[0m\u001b[0m\n\u001b[1;32m    645\u001b[0m \u001b[0;32mclass\u001b[0m \u001b[0mHTTPRedirectHandler\u001b[0m\u001b[0;34m(\u001b[0m\u001b[0mBaseHandler\u001b[0m\u001b[0;34m)\u001b[0m\u001b[0;34m:\u001b[0m\u001b[0;34m\u001b[0m\u001b[0;34m\u001b[0m\u001b[0m\n",
            "\u001b[0;31mHTTPError\u001b[0m: HTTP Error 404: Not Found"
          ]
        }
      ]
    },
    {
      "cell_type": "markdown",
      "source": [
        "# Un primer vistazo de los datos\n",
        "Utilice el siguiente código para mapear sus datos (no es necesario hacer cambios en el código)  "
      ],
      "metadata": {
        "id": "DT8y9Z2wHA0z"
      }
    },
    {
      "cell_type": "code",
      "source": [
        "fig, ax = plt.subplots(figsize=(12, 12))\n",
        "gdf.to_crs(\"EPSG:4326\").plot(ax=ax,column='adjprice', legend=True)\n",
        "#ax.set_xlim(-59.2, -58)\n",
        "#ax.set_ylim(-35, -34.1)\n",
        "cx.add_basemap(ax, crs=gdf.to_crs(epsg=4326).crs.to_string(), source=cx.providers.Stamen.TonerLite)\n",
        "ax.axis('off')\n",
        "plt.title(ciudad)"
      ],
      "metadata": {
        "id": "vVStEntWHAB0",
        "outputId": "f207776b-54cb-4123-f1af-d4774d67d671",
        "colab": {
          "base_uri": "https://localhost:8080/",
          "height": 1000
        }
      },
      "execution_count": 44,
      "outputs": [
        {
          "output_type": "error",
          "ename": "NameError",
          "evalue": "ignored",
          "traceback": [
            "\u001b[0;31m---------------------------------------------------------------------------\u001b[0m",
            "\u001b[0;31mNameError\u001b[0m                                 Traceback (most recent call last)",
            "\u001b[0;32m<ipython-input-44-7869e4d8ee35>\u001b[0m in \u001b[0;36m<cell line: 2>\u001b[0;34m()\u001b[0m\n\u001b[1;32m      1\u001b[0m \u001b[0mfig\u001b[0m\u001b[0;34m,\u001b[0m \u001b[0max\u001b[0m \u001b[0;34m=\u001b[0m \u001b[0mplt\u001b[0m\u001b[0;34m.\u001b[0m\u001b[0msubplots\u001b[0m\u001b[0;34m(\u001b[0m\u001b[0mfigsize\u001b[0m\u001b[0;34m=\u001b[0m\u001b[0;34m(\u001b[0m\u001b[0;36m12\u001b[0m\u001b[0;34m,\u001b[0m \u001b[0;36m12\u001b[0m\u001b[0;34m)\u001b[0m\u001b[0;34m)\u001b[0m\u001b[0;34m\u001b[0m\u001b[0;34m\u001b[0m\u001b[0m\n\u001b[0;32m----> 2\u001b[0;31m \u001b[0mgdf\u001b[0m\u001b[0;34m.\u001b[0m\u001b[0mto_crs\u001b[0m\u001b[0;34m(\u001b[0m\u001b[0;34m\"EPSG:4326\"\u001b[0m\u001b[0;34m)\u001b[0m\u001b[0;34m.\u001b[0m\u001b[0mplot\u001b[0m\u001b[0;34m(\u001b[0m\u001b[0max\u001b[0m\u001b[0;34m=\u001b[0m\u001b[0max\u001b[0m\u001b[0;34m,\u001b[0m\u001b[0mcolumn\u001b[0m\u001b[0;34m=\u001b[0m\u001b[0;34m'adjprice'\u001b[0m\u001b[0;34m,\u001b[0m \u001b[0mlegend\u001b[0m\u001b[0;34m=\u001b[0m\u001b[0;32mTrue\u001b[0m\u001b[0;34m)\u001b[0m\u001b[0;34m\u001b[0m\u001b[0;34m\u001b[0m\u001b[0m\n\u001b[0m\u001b[1;32m      3\u001b[0m \u001b[0;31m#ax.set_xlim(-59.2, -58)\u001b[0m\u001b[0;34m\u001b[0m\u001b[0;34m\u001b[0m\u001b[0m\n\u001b[1;32m      4\u001b[0m \u001b[0;31m#ax.set_ylim(-35, -34.1)\u001b[0m\u001b[0;34m\u001b[0m\u001b[0;34m\u001b[0m\u001b[0m\n\u001b[1;32m      5\u001b[0m \u001b[0mcx\u001b[0m\u001b[0;34m.\u001b[0m\u001b[0madd_basemap\u001b[0m\u001b[0;34m(\u001b[0m\u001b[0max\u001b[0m\u001b[0;34m,\u001b[0m \u001b[0mcrs\u001b[0m\u001b[0;34m=\u001b[0m\u001b[0mgdf\u001b[0m\u001b[0;34m.\u001b[0m\u001b[0mto_crs\u001b[0m\u001b[0;34m(\u001b[0m\u001b[0mepsg\u001b[0m\u001b[0;34m=\u001b[0m\u001b[0;36m4326\u001b[0m\u001b[0;34m)\u001b[0m\u001b[0;34m.\u001b[0m\u001b[0mcrs\u001b[0m\u001b[0;34m.\u001b[0m\u001b[0mto_string\u001b[0m\u001b[0;34m(\u001b[0m\u001b[0;34m)\u001b[0m\u001b[0;34m,\u001b[0m \u001b[0msource\u001b[0m\u001b[0;34m=\u001b[0m\u001b[0mcx\u001b[0m\u001b[0;34m.\u001b[0m\u001b[0mproviders\u001b[0m\u001b[0;34m.\u001b[0m\u001b[0mStamen\u001b[0m\u001b[0;34m.\u001b[0m\u001b[0mTonerLite\u001b[0m\u001b[0;34m)\u001b[0m\u001b[0;34m\u001b[0m\u001b[0;34m\u001b[0m\u001b[0m\n",
            "\u001b[0;31mNameError\u001b[0m: name 'gdf' is not defined"
          ]
        },
        {
          "output_type": "display_data",
          "data": {
            "text/plain": [
              "<Figure size 1200x1200 with 1 Axes>"
            ],
            "image/png": "[encoded data removed]"
          },
          "metadata": {}
        }
      ]
    },
    {
      "cell_type": "markdown",
      "source": [
        "Recuerde que también puede mapear el GeoDataFrame con la el método plot (sin incluir otras referencias)"
      ],
      "metadata": {
        "id": "NO08UAg1Hy7z"
      }
    },
    {
      "cell_type": "code",
      "metadata": {
        "id": "fUQiRNSIjriG",
        "outputId": "5a38368e-09f8-4a4a-f582-323e7228c858",
        "colab": {
          "base_uri": "https://localhost:8080/",
          "height": 282
        }
      },
      "source": [
        "gdf.plot()"
      ],
      "execution_count": null,
      "outputs": [
        {
          "output_type": "execute_result",
          "data": {
            "text/plain": [
              "<matplotlib.axes._subplots.AxesSubplot at 0x7f3ff282b710>"
            ]
          },
          "metadata": {},
          "execution_count": 14
        },
        {
          "output_type": "display_data",
          "data": {
            "text/plain": [
              "<Figure size 432x288 with 1 Axes>"
            ],
            "image/png": "[encoded data removed]"
          },
          "metadata": {
            "needs_background": "light"
          }
        }
      ]
    },
    {
      "cell_type": "markdown",
      "metadata": {
        "id": "lN5b7XVhSzfO"
      },
      "source": [
        "Vamos a trabajar eliminar el 5% de las propiedades de mayor precio de manera de evitar problemas de outliers. Ejecute la siguiente celda para conservar el 95% inferior de la distribución (es decir, eliminar el 5% de outliers)."
      ]
    },
    {
      "cell_type": "code",
      "metadata": {
        "id": "palqQ2r7Sxne"
      },
      "source": [
        "gdf=gdf.loc[gdf.price<gdf.price.quantile(.95)]"
      ],
      "execution_count": null,
      "outputs": []
    },
    {
      "cell_type": "markdown",
      "source": [
        "Utilice un histograma para evaluar si se eliminaron observaciones atípicas de la distribución del precio. Nota: si el procedimiento no fue suficiente considere eliminar un porcentaje mayor de datos."
      ],
      "metadata": {
        "id": "mYiQO0yqIkhM"
      }
    },
    {
      "cell_type": "code",
      "source": [
        "gdf.price.hist()"
      ],
      "metadata": {
        "id": "_hwm-rktIZK7",
        "outputId": "5defb03e-7834-4813-be23-5d303ebcb35e",
        "colab": {
          "base_uri": "https://localhost:8080/",
          "height": 295
        }
      },
      "execution_count": null,
      "outputs": [
        {
          "output_type": "execute_result",
          "data": {
            "text/plain": [
              "<matplotlib.axes._subplots.AxesSubplot at 0x7f3ff29f82d0>"
            ]
          },
          "metadata": {},
          "execution_count": 17
        },
        {
          "output_type": "display_data",
          "data": {
            "text/plain": [
              "<Figure size 432x288 with 1 Axes>"
            ],
            "image/png": "[encoded data removed]"
          },
          "metadata": {
            "needs_background": "light"
          }
        }
      ]
    },
    {
      "cell_type": "markdown",
      "metadata": {
        "id": "om6F9nwLqeo4"
      },
      "source": [
        "Las variables disponibles en el dataframe son las siguientes:"
      ]
    },
    {
      "cell_type": "code",
      "metadata": {
        "colab": {
          "base_uri": "https://localhost:8080/"
        },
        "id": "nwuqC6ZjqjWG",
        "outputId": "c92773d0-8513-4326-b4e0-e9a4cd845633"
      },
      "source": [
        "gdf.columns"
      ],
      "execution_count": null,
      "outputs": [
        {
          "output_type": "execute_result",
          "data": {
            "text/plain": [
              "Index(['type', 'type_i18n', 'country', 'developmen', 'operation', 'operation_',\n",
              "       'rooms', 'bedrooms', 'bathrooms', 'surface_to', 'surface_co', 'price',\n",
              "       'currency', 'price_peri', 'title', 'lat', 'lon', 'l1', 'l2', 'l3', 'l4',\n",
              "       'l5', 'l6', 'distanciaC', 'start_mont', 'start_year', 'infla',\n",
              "       'adjprice', 'geometry'],\n",
              "      dtype='object')"
            ]
          },
          "metadata": {},
          "execution_count": 18
        }
      ]
    },
    {
      "cell_type": "markdown",
      "metadata": {
        "id": "YPjR6hKSqpUz"
      },
      "source": [
        "Nos interesan las siguientes:\n",
        "- 'bedrooms': Numero de habitaciones\n",
        "- 'surface_to': Superficie total\n",
        "- 'price': Valor de alquiler en la moneda local\n",
        "- 'start_mont' Mes en que se empezo a ofrecer el anuncio. Ojo que dice mont y no month.\n",
        "- 'start_year': Año en el que se comenzó a ofrecer\n",
        "- 'adjprice': Precio ajustado por inflacion (Utilice esta variable si analizará una ciudad de Argentina u otra que haya experimentado fuerte inflación)\n",
        "- 'distanciaC': Distancia al centro de negocios o *central business district* CBD.\n"
      ]
    },
    {
      "cell_type": "markdown",
      "metadata": {
        "id": "UaUEpwcHPAl9"
      },
      "source": [
        "# Preguntas  "
      ]
    },
    {
      "cell_type": "markdown",
      "metadata": {
        "id": "GVraBcAC_oh3"
      },
      "source": [
        "# Pregunta 1\n",
        "Estimaremos un modelo para identificar la presencia de un gradiente urbano. Nuestra intención es verificar si existe una relación entre la distancia al centro de negocios de la ciudad y el valor de los alquileres.  \n",
        "\n",
        "Propondremos inicialmente la estimación del siguiente modelo\n",
        "\n",
        "\n",
        "$$\n",
        "alquiler_i=\\beta_0+\\beta_1distanciaC_i+\\epsilon_i\n",
        "$$\n",
        "\n",
        "\\\\\n",
        "Donde $alquiler_i$ es el valor del alquiler del inmueble $i$, y $distanciaC_i$ representa la distancia respecto al Centro de Negocios de la ciudad en cuestión. La distancia está computada en metros. \\\\\n",
        "\n",
        "La moneda del alquiler depende de la ciudad en cuestión (ver detalles en planilla de referencias)\n",
        "\n",
        "\n",
        "**Importante:** Los que trabajen con datos de Argentina deben utilizar la variable *adjprice* en vez de *price*\n"
      ]
    },
    {
      "cell_type": "markdown",
      "metadata": {
        "id": "CUqCsMRSB7OM"
      },
      "source": [
        "1.a Estime el modelo. Interprete los coeficientes estimados. \\\\\n"
      ]
    },
    {
      "cell_type": "markdown",
      "source": [
        "1.b. Proponga un test de hipótesis para probar si la variable $distancia$ al centro de negocios tiene un efecto en el alquiler. Cuál es el resultado del test para su caso en particular? \\\\\n"
      ],
      "metadata": {
        "id": "RZbmZrJKoACS"
      }
    },
    {
      "cell_type": "markdown",
      "source": [
        "1.c Evalue la **bondad de ajuste** del modelo sobre la variabilidad del alquiler. Proponga una medida e interprete los resultados de la estimación del modelo de regresión. \\\\\n"
      ],
      "metadata": {
        "id": "FONRF1IQoE0z"
      }
    },
    {
      "cell_type": "markdown",
      "source": [
        "1.d ¿Qué dicen los resultados sobre la hipótesis de efectos de la aglomeracion en el valor del alquiler?"
      ],
      "metadata": {
        "id": "7mpZkBmXoGNx"
      }
    },
    {
      "cell_type": "markdown",
      "metadata": {
        "id": "0oGoKI2nTbRx"
      },
      "source": [
        "# Pregunta 2\n",
        "En base a los resultados del modelo anterior: \\\\\n",
        "a. Realice una predicción para el valor de un alquiler a 100 metros del CBD \\\\\n"
      ]
    },
    {
      "cell_type": "markdown",
      "source": [
        "b. Realice una predicción para el valor de un alquiler a 5km del CBD. \\\\\n"
      ],
      "metadata": {
        "id": "WXlq5C_bpSLz"
      }
    },
    {
      "cell_type": "markdown",
      "source": [
        "c. Realice un grafico cross-plot con las distancias al CBD en el eje horizontal y los precios en el eje vertical. Superponga la predicción del modelo. Ayuda: puede consultar este [notebook](https://github.com/rpasquini/metodos_cuantitativos_2022/blob/main/1_Introduccion.ipynb)"
      ],
      "metadata": {
        "id": "MK_wDYd9pSa2"
      }
    },
    {
      "cell_type": "markdown",
      "metadata": {
        "id": "ozAN-F6eHHoD"
      },
      "source": [
        "## Pregunta 3\n",
        "\n",
        "a. En términos de la teoría: ¿Qué implicancia tiene el cumplimiento del supuesto de normalidad de los errores? Explique.\n"
      ]
    },
    {
      "cell_type": "markdown",
      "source": [
        "\n",
        "b. Analice el cumplimiento del supuesto normalidad de los errores del modelo utilizando los resultados de su regresión (Pregunta 1). Utilice para ello alguno de los gráficos de diagnóstico sobre los mismos que  vimos en clase.\n",
        " ¿Presentan los residuos una distribución normal? \\\\\n"
      ],
      "metadata": {
        "id": "9ItQTND_pzEZ"
      }
    },
    {
      "cell_type": "markdown",
      "source": [
        "b. ¿Puede considerarse válido el test de hipótesis realizado en el punto 1.b en este caso particular? ¿Por qué si o por qué no?\n"
      ],
      "metadata": {
        "id": "8-JNaVLEqJNk"
      }
    },
    {
      "cell_type": "markdown",
      "metadata": {
        "id": "Vvj6sMHgMm6l"
      },
      "source": [
        "## Pregunta 4\n",
        "\n",
        "Proponga una transformación en la forma funcional del modelo (por ejemplo $log(y)$). Explique por qué podría ayudar al cumplimiento del supuesto de  normalidad de los errores. Reestime el modelo con la transforación propuesta. Provea una interpretación de los coeficientes obtenidos luego de la transformación."
      ]
    },
    {
      "cell_type": "markdown",
      "metadata": {
        "id": "Z_pxE_-6XabF"
      },
      "source": [
        "## Pregunta 5\n",
        "\n",
        "Siguiendo con el objetivo de identificar el efecto de la aglomeración usando la distancia al CBD, vamos a considerar ahora la incorporación del control de la superficie del departamento como una variable de control. \\\\\n"
      ]
    },
    {
      "cell_type": "markdown",
      "source": [
        "a. En términos téoricos: ¿Es la superficie del departamento una  variable *relevante* que no puede ser omitida? ¿Por\n",
        "   qué si o por qué no? (Sugerencia: Utilice la definición de variable *relevante* que dimos en clase)\n"
      ],
      "metadata": {
        "id": "X14-Q1ZfxjMB"
      }
    },
    {
      "cell_type": "markdown",
      "source": [
        "b. Deberia modificarse el efecto de la distancia al incorporar la superficie del departamento al modelo? ¿Por qué si o por qué no?  (Sugerencia: examine la relación entre superficie y distancia)\n"
      ],
      "metadata": {
        "id": "pna9WbbfxWXY"
      }
    },
    {
      "cell_type": "markdown",
      "source": [
        " c.Incorpore la superificie del departamento al modelo que está trabajando (Al de la Pregunta 1, o al de la Pregunta 4 si lo cree más conveniente). Compute el modelo y explique todos los resultados. En particular, compare los resultados del coeficiente que acompaña a distancia antes y después de la incorporación del control."
      ],
      "metadata": {
        "id": "wIW-ZVMbxWkl"
      }
    },
    {
      "cell_type": "markdown",
      "metadata": {
        "id": "yCcsCr_tZ_8i"
      },
      "source": [
        "# Pregunta 6\n",
        "Ahora vamos a considerar la incorporación del control adicional de la cantidad de habitaciones del departamento. Es decir, sin perder nuestro objetivo de estimar el efecto distancia, consideraremos la inclusión de la cantidad de habitaciones como un control.  \\\\\n"
      ]
    },
    {
      "cell_type": "markdown",
      "source": [
        "a. En términos téoricos, y para los efectos de entender el efecto de la aglomeracion (distanciaCBD): ¿Es la cantidad de habitaciones una variable relevante que no puede ser omitida? ¿Por qué si o por qué no? \\\\\n"
      ],
      "metadata": {
        "id": "n3HUdky9yOX5"
      }
    },
    {
      "cell_type": "markdown",
      "source": [
        "b.Incorpore la cantidad de habitaciones al modelo. Compute el modelo y explique todos los resultados. En particular, compare los resultados del coeficiente que acompaña a distancia antes y después de la incorporación del nuevo control. \\\\\n"
      ],
      "metadata": {
        "id": "1wh3Gx2HyOnT"
      }
    },
    {
      "cell_type": "markdown",
      "source": [
        "c. ¿Cómo cambió el coeficiente de la variable superficie al incorporar la cantidad de habitaciones al modelo? ¿Cómo se explica este cambio?"
      ],
      "metadata": {
        "id": "BrBiwwUAySzq"
      }
    },
    {
      "cell_type": "markdown",
      "metadata": {
        "id": "qrED8kanbkGE"
      },
      "source": [
        "# Pregunta 7\n",
        "Las variables **start_year** y **start_mont** presentan la informacion del año y mes en el que el anuncio se publicó respectivamente. \\\\\n",
        "a. Genere una variable dummy para identificar las observaciones posteriores al advenimiento del covid en marzo 2020 (i.e., 1 si es posterior a marzo 2020 y 0 de otro modo) \\\\\n",
        "b. Ingrese la variable dummy al modelo con el que viene trabajando. Interprete los coeficientes del modelo."
      ]
    },
    {
      "cell_type": "markdown",
      "metadata": {
        "id": "IVRB7iH-l4yQ"
      },
      "source": [
        "# Pregunta 8\n",
        "\n",
        "En esta punto vamos a indagar la hipótesis de que el COVID afectó el gradiente urbano de alquileres. Vamos a estimar el siguiente modelo:\n",
        "\n",
        "$$\n",
        "alquiler_i=\\beta_0+\\beta_1distanciaC_i+\\beta_2Post_t+\\beta_3Interaccion_{t,i}+\\epsilon_i\n",
        "$$\n",
        "\n",
        "donde:\n",
        "*  $Post_t$ es una variable dummy que identifica si la oferta fue realizada posterior a marzo 2020 y 0 de otro modo (calculada en el punto anterior).\n",
        "* $$Interaccion_{t,i}=distanciaC_i * Post_t$$\n",
        "Es decir, la variable $Interaccion_{t,i}$ es la multiplicación de la variable $Distancia$ por la variable dummy $Post$. *Esta es una variable que usted debera generar por separado.* Note además, que esta variable activará un efecto adicional para la distancia sólo para aquellas observaciones en el período definido como Post.\\\\\n"
      ]
    },
    {
      "cell_type": "markdown",
      "source": [
        "a. Estime el modelo. Interprete los coeficientes obtenidos. \\\\\n",
        "\n"
      ],
      "metadata": {
        "id": "4Hin2gFezw5n"
      }
    },
    {
      "cell_type": "markdown",
      "source": [
        "b. Es $\\beta_3$ estadisticamente significativo? ¿Cómo se interpreta este resultado? \\\\\n"
      ],
      "metadata": {
        "id": "uxPFvU0UzyHH"
      }
    },
    {
      "cell_type": "markdown",
      "source": [
        "c. (Opcional) Realice un grafico de las predicciones del modelo contra la variable distancia, de manera similar al punto 2.c\n"
      ],
      "metadata": {
        "id": "8a8rqm0tzzVZ"
      }
    },
    {
      "cell_type": "markdown",
      "source": [
        "d. ¿Cuáles son sus conclusiones en relacion al efecto del Covid sobre el gradiente de alquileres?"
      ],
      "metadata": {
        "id": "_YtSoXMcz0aV"
      }
    },
    {
      "cell_type": "markdown",
      "metadata": {
        "id": "H9cuNiSnTovE"
      },
      "source": [
        "#Pregunta 9 (opcional)\n",
        "Realice una hipótesis adicional relacionada al efecto de la pandemia que pueda testear en base a los datos provistos. Especifique el modelo y testee su hipótesis."
      ]
    }
  ]
}